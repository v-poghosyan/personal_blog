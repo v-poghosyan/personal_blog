{
 "cells": [
  {
   "cell_type": "markdown",
   "metadata": {},
   "source": [
    "---\n",
    "title: \"Convolutional Neural Networks\"\n",
    "author: \"Vahram Poghosyan\"\n",
    "date: \"2023-10-27\"\n",
    "categories: [\"Image Recognition\",\"Machine Learning\"]\n",
    "image: \"intro_to_linalg.jpg\"\n",
    "repo-url: https://www.example.com\n",
    "format:\n",
    "  html:\n",
    "    code-fold: false\n",
    "    code-line-numbers: true\n",
    "    code-tools:\n",
    "      source: repo\n",
    "jupyter: python3\n",
    "---"
   ]
  }
 ],
 "metadata": {
  "language_info": {
   "name": "python"
  },
  "orig_nbformat": 4
 },
 "nbformat": 4,
 "nbformat_minor": 2
}
