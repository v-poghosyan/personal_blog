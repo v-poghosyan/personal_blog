{
 "cells": [
  {
   "cell_type": "raw",
   "id": "8262545b",
   "metadata": {},
   "source": [
    "---\n",
    "title: \"Review of Linear Algebra and Geometry for ML\"\n",
    "author: \"Vahram Poghosyan\"\n",
    "date: \"2022-01-23\"\n",
    "categories: [\"Linear Algebra\"]\n",
    "image: \"intro_to_linalg.jpg\"\n",
    "format:\n",
    "  html:\n",
    "    code-fold: true\n",
    "jupyter: python3\n",
    "---"
   ]
  },
  {
   "cell_type": "markdown",
   "id": "b5bbacdd",
   "metadata": {},
   "source": [
    "# Review of Linear Algebra and Geometry\n",
    "\n",
    "We start our exploration of mathematics for machine learning with a refresher on convexity and, in general, the linear algebra that's commonly used in the subject.\n",
    "\n",
    "## Convexity\n",
    "\n",
    "Set convexity is defined as follows:\n",
    "\n",
    "> **Definition:** &nbsp; A set $C \\subseteq \\mathbb{R^d}$ is **convex** if, for all points $x_1,x_2 \\in C$ and any $\\theta \\in [0,1]$, the point $\\theta x_1 + (1-\\theta) x_2$\n",
    "\n",
    "That is, a set is convex if the parametrized line segment between $x_1$ and $x_2$, any two points in the set, is also entirely within the set.\n",
    "<br>\n",
    "\n",
    "\n",
    "### Some Operations that Preserve Convexity\n",
    "\n",
    "Scaling, skewing, and rotation (i.e. *linear transformations*) preserve convexity, as do *affine transformations* (i.e. shifting). Let the matrix $A$ define such a transformation, and $b$ be a shift vector. Then $C' = \\{Ax + b : x \\in C \\}$ is convex provided that $C$ was convex.\n",
    "\n",
    "An *intersection* of convex sets is also convex. That is, $C' = \\{ x : x \\in C_1 \\cap x \\in C_2 \\}$ is convex provided that $C_1$ and $C_2$ were convex to begin with. The proof follows directly from the definition of intersection.\n",
    "\n",
    "However, *unions* of convex sets need not be convex.\n",
    "\n",
    "## Examples of Convex Sets\n",
    "\n",
    "The following are some common convex sets we will come across in practice.\n",
    "\n",
    "### Convex Hull of $n$ Points\n",
    "\n",
    "> Note: A *point* and a *vector* mean the same thing for the purposes of the discussion that follows.\n",
    "<br>\n",
    "\n",
    "A *convex combination* of points $x_1, ..., x_n$ is a point of the form $x = \\theta_1 x_1 + ... + \\theta_n x_n$ where $\\sum_{i = 1}^{n} \\theta_i = 1$ and $\\theta_i \\geq 0 \\ \\ \\forall i$.\n",
    "\n",
    "Let $x_1,x_2,...,x_n$ be $n$ points in space. Their *convex hull* is the set of all points which can be written as some convex combination of them. Equivalently, by varying the $\\theta_i$'s we generate the convex hull as the set of all convex combinations of these points.\n",
    "\n",
    "The convex hull can be visualized as the closed polygon formed when a rubber band is stretched around the $n$ points. The convex hull of two points is the line segment joining them. That of three points is the polygon (complete with its inner region). In general, for $n$ points, the concept generalizes to an $n$-dimensional polygon.\n",
    "\n",
    "Formally, the convex hull is the set $\\{ \\theta_1 x_1 + ... + \\theta_n x_n : \\theta_1 + ... + \\theta_n = 1 \\ \\ \\textrm{and} \\ \\ \\theta_i \\geq 0 \\ \\ \\forall i \\}$\n",
    "\n",
    "> Note: A handy interactive visualization, along with an efficient algorithm that generates a convex hull of $n$ points on a 2D plane can be found in the following [blog post](https://www.jgibson.id.au/articles/convex-hull/) by Joel Gibson.\n",
    "<br>\n",
    "\n",
    "### Convex Hull of a Set\n",
    "\n",
    "The convex hull of a set can be similarly defined as all the convex combinations of the elements in the set. However, since the set may contain infinite elements there's an easier, equivalent definition in terms of supersets.\n",
    "\n",
    "Let $C$ be a non-convex set. The convex hull of $C$ is the intersection of all convex supersets of $C$. That is, it's the intersection of all convex sets containing $C$. The result of such an intersection will be the unique $^{(†)}$ smallest convex superset of $C$, its convex hull. \n",
    "\n",
    "::: {.column-margin}\n",
    "() **Proof of uniqueness:** Let $C_1$ and $C_2$ be two convex hulls of $C$.  Let $c_1 \\in C_1$ be a point. Since $c_1 \\in C_1$, $c_1 \\in$ at least one of the convex supersets $C^{i}$of $C$. Hence, $c_1 \\in C_2$ since $C_2 = \\bigcap^{i=1 \\to n}C^{i}$. Similarly, it can be shown that any $c_2 \\in C_2$ also belongs to $C_1$. \n",
    "Hence, $C_1 \\subseteq C_2$ and vice versa. This proves that $C_1 = C_2$ and, in doing so, completes this proof of uniqueness. \n",
    ":::\n",
    "\n",
    "Visualizing the convex hull of a non-convex set is similar to visualizing that of $n$ points — it's simply the shape enclosed by a rubber band stretched around the non-convex set.\n",
    "\n",
    "### Affine Combination of $n$ Points\n",
    "\n",
    "An *affine combination* of points $x_1,...,x_n$ is a point of the form $x = \\theta_1 x_1 + ... + \\theta_n x_n$ with $\\sum_{i=1}^{n}\\theta_i = 1$ but where the $\\theta_i$'s need not be non-negative. \n",
    "\n",
    "For a single point, the set of all affine combinations is the singleton set with the point itself. For two points, it's the *line* that passes through them, and for three points it's the *plane*. In general, it is the plane in $n$-dimensions passing through the $n$ points."
   ]
  },
  {
   "cell_type": "code",
   "execution_count": 7,
   "id": "59f2b3ad",
   "metadata": {},
   "outputs": [
    {
     "data": {
      "application/vnd.jupyter.widget-view+json": {
       "model_id": "c2a86d8c0dfd4da0ba8e87a30714bc49",
       "version_major": 2,
       "version_minor": 0
      },
      "text/plain": [
       "interactive(children=(IntSlider(value=50, description='dots', min=1), Dropdown(description='colr', options=('r…"
      ]
     },
     "metadata": {},
     "output_type": "display_data"
    },
    {
     "data": {
      "application/vnd.jupyter.widget-view+json": {
       "model_id": "e6ae7be422074cacaae0bf345aeded41",
       "version_major": 2,
       "version_minor": 0
      },
      "image/png": "[encoded data removed]",
      "text/html": [
       "\n",
       "            <div style=\"display: inline-block;\">\n",
       "                <div class=\"jupyter-widgets widget-label\" style=\"text-align: center;\">\n",
       "                    Figure\n",
       "                </div>\n",
       "                <img src='data:image/png;base64,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' width=640.0/>\n",
       "            </div>\n",
       "        "
      ],
      "text/plain": [
       "Canvas(toolbar=Toolbar(toolitems=[('Home', 'Reset original view', 'home', 'home'), ('Back', 'Back to previous …"
      ]
     },
     "metadata": {},
     "output_type": "display_data"
    }
   ],
   "source": [
    "import numpy as np\n",
    "import matplotlib.pyplot as plt\n",
    "from ipywidgets import AppLayout, FloatSlider\n",
    "%matplotlib widget\n",
    "\n",
    "# # Slider\n",
    "# a1_slide = plt.axes([1.0, 0.1, 0.65, 0.03]) # x_pos, y_pos, width, height of slider/button \n",
    "# a1 = Slider(a1_slide, \"a1\", valmin=0.1, valmax=1, valinit=0.5, valstep=0.05) # slider, description, min_val, max_val, init_val, step\n",
    "# a2_slide = plt.axes([1.0, 0.2, 0.65, 0.03])\n",
    "# a2 = Slider(a2_slide, \"a2\", valmin=0.1, valmax=1, valinit=0.5, valstep=0.05)\n",
    "\n",
    "# # The function to be called anytime a slider's value changes\n",
    "# def update_a1(val):\n",
    "#     a2 =  1-a1\n",
    "#     p.set_ydata(x2(x1))\n",
    "#     fig.canvas.draw_idle()\n",
    "\n",
    "# def update_a2(val):\n",
    "#     a1 =  1-a2\n",
    "#     p.set_ydata(x2(x1))\n",
    "#     fig.canvas.draw_idle()\n",
    "\n",
    "# # register the update function with each slider\n",
    "# a1.on_changed(update_a1)\n",
    "# a2.on_changed(update_a2)\n",
    "\n",
    "# # Affine combination with its weights\n",
    "# x1 = np.linspace(1,10,20)\n",
    "# x2 = lambda x1: 1/a2.val - (a1.val/a2.val)*x1\n",
    "\n",
    "# # Plot\n",
    "# fig = plt.figure()\n",
    "# ax = fig.subplots()\n",
    "# p = ax.plot(x1,x2(x1))\n",
    "# plt.show()\n",
    "\n",
    "# When using the `widget` backend from ipympl,\n",
    "# fig.canvas is a proper Jupyter interactive widget, which can be embedded in\n",
    "# an ipywidgets layout. See https://ipywidgets.readthedocs.io/en/stable/examples/Layout%20Templates.html\n",
    "\n",
    "# One can bound figure attributes to other widget values.\n",
    "from ipywidgets import AppLayout, FloatSlider\n",
    "\n",
    "plt.ioff()\n",
    "\n",
    "slider = FloatSlider(\n",
    "    orientation='horizontal',\n",
    "    description='Factor:',\n",
    "    value=1.0,\n",
    "    min=0.02,\n",
    "    max=2.0\n",
    ")\n",
    "\n",
    "slider.layout.margin = '0px 30% 0px 30%'\n",
    "slider.layout.width = '40%'\n",
    "\n",
    "fig = plt.figure()\n",
    "fig.canvas.header_visible = False\n",
    "fig.canvas.layout.min_height = '400px'\n",
    "plt.title('Plotting: y=sin({} * x)'.format(slider.value))\n",
    "\n",
    "x = np.linspace(0, 20, 500)\n",
    "\n",
    "lines = plt.plot(x, np.sin(slider.value * x))\n",
    "\n",
    "def update_lines(change):\n",
    "    plt.title('Plotting: y=sin({} * x)'.format(change.new))\n",
    "    lines[0].set_data(x, np.sin(change.new * x))\n",
    "    fig.canvas.draw()\n",
    "    fig.canvas.flush_events()\n",
    "\n",
    "slider.observe(update_lines, names='value')\n",
    "\n",
    "AppLayout(\n",
    "    center=fig.canvas,\n",
    "    footer=slider,\n",
    "    pane_heights=[0, 6, 1]\n",
    ")"
   ]
  },
  {
   "cell_type": "markdown",
   "id": "62f0e79b",
   "metadata": {},
   "source": [
    "### Linear Combinations - Hyperplanes and Halfspaces\n",
    "\n",
    "A *linear combination* of $n$ vectors, on the other hand, is all vectors of the form $x = \\theta_1 x_1 + ... + \\theta_n x_n$ with the $\\theta_i$'s totally unrestricted. \n",
    "\n",
    "The set of all linear combinations of $n$ points is called their *span*. Formally, it is the set $\\{ \\theta_1 x_1 + ... + \\theta_n x_n : \\forall \\theta_1,...,\\theta_n \\}$.\n",
    "\n",
    "The span of a single point is the line passing through it. For two vectors the span is the plane passing through them and, in general, the span of $n$ points is a plane in $(n+1)$-dimensions which contains these points.\n",
    "\n",
    "\n",
    "#### Hyperplanes\n",
    "\n",
    "For fixed weights $\\theta_i = a_i \\ \\ \\forall i$, a *hyperplane* is the set of all points $x \\in \\mathbb{R^n}$ whose linear combination equals a fixed constant $b \\in \\mathbb{R}$.\n",
    "\n",
    "Formally, a hyperplane is the set $\\{ x : a_1 x_1 + ... a_n x_n = b\\} = \\{ x : a^T x = b\\}$ \n",
    "\n",
    "There's a geometric interpretation of the parameters $a \\in \\mathbb{R^n}$ and $b \\in \\mathbb{R}$. Since the dot-product between perpendicular vectors is $0$, $\\{ x :  a^T x = 0\\}$ is simply the set of all vectors perpendicular to $a$ (whose tail, as with all vectors in linear algebra, is considered to be fixed at the origin), making $a$ the *normal vector* to the hyperplane passing through the origin. To allow for parallel hyperplanes that are translated from the origin, the *offset* $b \\in \\mathbb{R}$ is introduced in the generalization $\\{ x : a^T x = b \\}$. This is now the set of all vectors whose dot-product with $a$ is constant. These vectors are not quite perpendicular to $a$, but they form a parallel hyperplane that's been shifted from the origin by a distance of $\\frac{|b|}{\\|a\\|_2}$.\n",
    "\n",
    "Since the sum $a_1 x_1 + ... a_n x_n = b$ is fixed, the last coordinate, which we'll call $x_k$ for some $k \\in [1,...,n]$, is fixed by the choice of the other $n-1$ coordinates. Therefore, a hyperplane  in $\\mathbb{R^n}$ spans $n-1$ dimensions instead of $n$.\n",
    "<br>"
   ]
  },
  {
   "cell_type": "markdown",
   "id": "708ebfb8",
   "metadata": {},
   "source": [
    "#### Halfspaces\n",
    "\n",
    "A *halfspace* is either of the two sub-spaces a hyperplane partitions the whole space into. Since the dot-product between vectors which are roughly in the same direction is positive, and vice versa, the two halfspaces associated to a hyperplane $\\{ x : a^T x = b\\}$ are $\\{ x : a^T x \\geq b\\}$ and $\\{ x : a^T x \\leq b\\}$."
   ]
  },
  {
   "cell_type": "markdown",
   "id": "4427fa71",
   "metadata": {},
   "source": [
    "### Conic Combinations of $n$ Points\n",
    "\n",
    "A *conic combination* of $x_1,...x_n$ is a point $x = \\sum_{i=1}^{n} \\theta_i x_i$ where $\\theta_i \\geq 0 \\ \\ \\forall i$. Note that the absence of the restriction that $\\sum_{i=1}^{n} \\theta_i = 1$ is what distinguishes a conic combination from a convex combination. "
   ]
  },
  {
   "cell_type": "markdown",
   "id": "bc519372",
   "metadata": {},
   "source": [
    "### Ellipses\n",
    "\n",
    "Recall from Euclidean geometry that ellipses are conic sections. In general we define ellipses in $n$-dimensions as the [sub-level sets](https://en.wikipedia.org/wiki/Level_set) of [quadratic forms](https://en.wikipedia.org/wiki/Quadratic_form). That is $\\{ x : (x-c)^T M (x-c) \\leq 1 \\}$ where $M \\succeq 0$ defines the stretch along each principal axis, and $c \\in \\mathbb{R^n}$ is the center. \n",
    "\n",
    "An equivalent definition of an ellipse using the L2-norm is $\\{ x  : \\|Ax - b\\|_2 \\leq 1 \\}$. That is, for a given $A$ and $b$ in the L2-norm definition, we can find an $M$ and $c$ in the sub-level set definition and vice versa.  \n",
    "\n",
    "> Note: More generally, the ellipse is $\\{ x : (x-c)^T M (x-c) \\leq r \\}$. However, since the scaling factor $r$ is positive, it can simply be absorbed into $Q$ without affecting $Q$'s positive semidefiniteness.\n",
    "<br>\n",
    "\n",
    "To quickly convince ourselves in the equivalence of these definitions, we take the simple case where $b = 0$.\n",
    "\n",
    "$$\n",
    "\\begin{aligned}\n",
    "  \\|Ax\\|_2 &= ((Ax)^T(Ax))^{1/2} \\\\\n",
    "  &= (x^TA^TAx)^{1/2} \\\\\n",
    "  &= (x^TU D U^Tx)^{1/2} \\\\\n",
    "  &= x^TU D^{1/2} U^Tx \\\\\n",
    "  \\end{aligned}\n",
    "$$\n",
    "\n",
    "Where the third equality is by the [spectral decomposition](https://en.wikipedia.org/wiki/Eigendecomposition_of_a_matrix#Real_symmetric_matrices) of the real symmetric matrix $A^TA$, in which $D = diag(\\lambda_1,...,\\lambda_n)$ is the diagnonal matrix of eigenvalues and the columns of $U$ are the corresponding eigenvectors. Taking $M= UD^{1/2}U^T$, where $D^{1/2}$ is simply $D^{1/2} = diag(\\sqrt\\lambda_1,...,\\sqrt\\lambda_n)$, we have the equivalent sub-level set definition of the ellipse. "
   ]
  },
  {
   "cell_type": "markdown",
   "id": "133dd7c1",
   "metadata": {},
   "source": [
    "### Norm Balls\n",
    "\n",
    "Related to ellipses are *Euclidean balls*, which are *norm balls* for the choice of the L2-norm. A Euclidean ball has the form $\\{ x : \\|x\\|_2 \\leq r \\}$, and is clearly convex as it's a generalizations of the sphere in $n$-dimensions. \n",
    "\n",
    "But also, a Euclidean ball is the special ellipse for the choice of $M = rI$, and $c = 0$. \n",
    "\n",
    "In general, norm balls $\\{ x : \\|x\\|_p \\leq r\\}$ where $\\|x\\|_p = (x_1^p + ... + x_n^p)^{1/p}$ are convex for any choice of $p \\geq 1$."
   ]
  },
  {
   "cell_type": "markdown",
   "id": "846d8b6d",
   "metadata": {},
   "source": [
    "### Polyhedra\n",
    "\n",
    "Where a halfspace is a set with one linear inequality constraint, a *polyhedron* is a set with many, but finite, such linear inequality constraints. These constraints can be packed into a matrix $A \\in \\mathbb{R^{m \\times n}}$ by vector $b \\in \\mathbb{R^m}$ multiplication form, making the polyhedron into the set $\\{x : Ax \\leq b\\}$.\n",
    "\n",
    "Since polyhedra are simply intersections of halfspaces and hyperplanes, and the latter are both convex, polyhedra are also convex sets."
   ]
  },
  {
   "cell_type": "markdown",
   "id": "0729f0f5",
   "metadata": {},
   "source": [
    "### The Set of All Positive Semidefinite Matrices\n",
    "\n",
    "The set of all PSD matrices $\\{ Q : x^TQx \\geq 0, \\ \\ \\forall x \\in \\mathbb{R^m}\\}$ is convex. We can, of course, use the definition of convexity to show this. But, a more elucidative approach would be the following remark. \n",
    "\n",
    "Note that $Q \\mapsto x^TQx$ is a [linear functional](https://en.wikipedia.org/wiki/Linear_form) that maps the space of all PSD matrices to its field of scalars. This is analogous to how $a \\mapsto x^Ta$ is a linear functional so, just as $\\{ a : x^Ta \\geq 0 \\}$ is a halfspace in the space of vectors, $H_x = \\{ Q : x^TQx \\geq 0 \\}$ for a given choice of $x \\in \\mathbb{R^m}$ is a halfspace in the space of PSD matrices. Halfspaces, as we already know, are convex and $\\{ Q : x^TQx \\geq 0, \\forall x \\in \\mathbb{R^m}\\}$ is nothing but an intersection of halfspaces for each choice of $x$. That is, $\\{ Q :  x^TQx \\geq 0, \\forall x \\in \\mathbb{R^m}\\} = \\bigcap_x H_x$, concluding the proof of its convexity. \n"
   ]
  },
  {
   "cell_type": "markdown",
   "id": "195b7d84",
   "metadata": {},
   "source": [
    "[^1]: **Proof of uniqueness of the minimal, convex superset:** \n",
    "    Suppose $C_1$ and $C_2$ are both minimal, convex supersets of $C$. But, any convex superset $D$ of\n",
    "    $C$ must necessarily contain the minimal, convex superset. Hence, $C_1 \\subseteq C_2$ and\n",
    "    similarly $C_2 \\subseteq C_1$, which implies $C_1 = C_2$.\n"
   ]
  }
 ],
 "metadata": {
  "kernelspec": {
   "display_name": "Python 3",
   "language": "python",
   "name": "python3"
  },
  "language_info": {
   "codemirror_mode": {
    "name": "ipython",
    "version": 3
   },
   "file_extension": ".py",
   "mimetype": "text/x-python",
   "name": "python",
   "nbconvert_exporter": "python",
   "pygments_lexer": "ipython3",
   "version": "3.8.12"
  }
 },
 "nbformat": 4,
 "nbformat_minor": 5
}
